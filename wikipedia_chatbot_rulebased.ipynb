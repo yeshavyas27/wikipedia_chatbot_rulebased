{
  "nbformat": 4,
  "nbformat_minor": 0,
  "metadata": {
    "colab": {
      "provenance": [],
      "authorship_tag": "ABX9TyMbe1ET+pba3jPDoREu2a6F",
      "include_colab_link": true
    },
    "kernelspec": {
      "name": "python3",
      "display_name": "Python 3"
    },
    "language_info": {
      "name": "python"
    }
  },
  "cells": [
    {
      "cell_type": "markdown",
      "metadata": {
        "id": "view-in-github",
        "colab_type": "text"
      },
      "source": [
        "<a href=\"https://colab.research.google.com/github/yeshavyas27/wikipedia_chatbot_rulebased/blob/main/wikipedia_chatbot_rulebased.ipynb\" target=\"_parent\"><img src=\"https://colab.research.google.com/assets/colab-badge.svg\" alt=\"Open In Colab\"/></a>"
      ]
    },
    {
      "cell_type": "code",
      "source": [
        "!pip install wikipedia-api"
      ],
      "metadata": {
        "colab": {
          "base_uri": "https://localhost:8080/"
        },
        "id": "pGsrNneQHG1B",
        "outputId": "54f8eba1-b3d3-41f9-90b0-7c6f54b21986"
      },
      "execution_count": 17,
      "outputs": [
        {
          "output_type": "stream",
          "name": "stdout",
          "text": [
            "Collecting wikipedia-api\n",
            "  Downloading Wikipedia_API-0.6.0-py3-none-any.whl (14 kB)\n",
            "Requirement already satisfied: requests in /usr/local/lib/python3.10/dist-packages (from wikipedia-api) (2.31.0)\n",
            "Requirement already satisfied: charset-normalizer<4,>=2 in /usr/local/lib/python3.10/dist-packages (from requests->wikipedia-api) (3.3.2)\n",
            "Requirement already satisfied: idna<4,>=2.5 in /usr/local/lib/python3.10/dist-packages (from requests->wikipedia-api) (3.7)\n",
            "Requirement already satisfied: urllib3<3,>=1.21.1 in /usr/local/lib/python3.10/dist-packages (from requests->wikipedia-api) (2.0.7)\n",
            "Requirement already satisfied: certifi>=2017.4.17 in /usr/local/lib/python3.10/dist-packages (from requests->wikipedia-api) (2024.7.4)\n",
            "Installing collected packages: wikipedia-api\n",
            "Successfully installed wikipedia-api-0.6.0\n"
          ]
        }
      ]
    },
    {
      "cell_type": "code",
      "source": [
        "import wikipediaapi\n",
        "import nltk\n",
        "from nltk.tokenize import word_tokenize\n",
        "from nltk.tag import pos_tag\n",
        "from nltk.corpus import stopwords\n",
        "\n",
        "# Download the necessary resources\n",
        "nltk.download('punkt')\n",
        "nltk.download('averaged_perceptron_tagger')\n",
        "nltk.download('stopwords')\n"
      ],
      "metadata": {
        "id": "4-2L7FG_PHFW"
      },
      "execution_count": 42,
      "outputs": []
    },
    {
      "cell_type": "code",
      "source": [
        "def extract_nouns(text):\n",
        "    # Tokenize the text into words\n",
        "    words = word_tokenize(text)\n",
        "\n",
        "    # Get the part of speech tags for the words\n",
        "    pos_tags = pos_tag(words)\n",
        "\n",
        "    # Extract nouns (NN, NNS, NNP, NNPS)\n",
        "    nouns = [word for word, pos in pos_tags if pos in ['NN', 'NNS', 'NNP', 'NNPS']]\n",
        "\n",
        "    return nouns"
      ],
      "metadata": {
        "id": "CuCKYp0vR4DR"
      },
      "execution_count": 67,
      "outputs": []
    },
    {
      "cell_type": "code",
      "execution_count": 68,
      "metadata": {
        "id": "vWF6PRs2CCV8"
      },
      "outputs": [],
      "source": [
        "def chatbot(text):\n",
        "  if text.find(\"name\") != -1:\n",
        "    print(\"Hello my name is jarvis.\")\n",
        "  elif text.find(\"created\" ) != -1:\n",
        "     print(\"I was created by yesha!\")\n",
        "  elif (text.find(\"what\" ) != -1) or (text.find(\"who\" ) != -1) :\n",
        "    nouns = extract_nouns(text)\n",
        "    try:\n",
        "      page_py = wiki_wiki.page(nouns[0])\n",
        "      print(page_py.summary)\n",
        "    except:\n",
        "      print(\"I can not find a page about it on wikipedia\")\n",
        "  else:\n",
        "    print(\"I don't know about that.\")\n"
      ]
    },
    {
      "cell_type": "code",
      "source": [
        "print(\" This is a rule based chat bot, you can ask me about a thing or a person, I use wikipedia to give you information, ask question like what is x or who is x, please type 'bye' to exit the chat: \")\n",
        "wiki_wiki = wikipediaapi.Wikipedia('ChatBotJarvis (yeshavyas27@gmail.com)', 'en')\n",
        "\n",
        "while True:\n",
        "  text = input(\"Hello! how can I help you: \")\n",
        "  if text.find(\"bye\") != -1:\n",
        "    print(\"Nice chat! Have a good day!\")\n",
        "    break\n",
        "  chatbot(text)\n"
      ],
      "metadata": {
        "colab": {
          "base_uri": "https://localhost:8080/"
        },
        "id": "nrwbDfoCCRUG",
        "outputId": "ea940329-d8b8-4141-e4ab-4ee0e0fbc81b"
      },
      "execution_count": 70,
      "outputs": [
        {
          "output_type": "stream",
          "name": "stdout",
          "text": [
            " This is a rule based chat bot, you can ask me about a thing or a person, I use wikipedia to give you information, ask question like what is x or who is x, please type 'bye' to exit the chat: \n",
            "Hello!\n",
            "what is maggi\n",
            "[]\n",
            "I can not find a page about it on wikipedia\n",
            "Hello!\n",
            "what is rice\n",
            "['rice']\n",
            "Rice is a cereal grain and in its domesticated form is the staple food of over half of the world's population, particularly in Asia and Africa. Rice is the seed of the grass species Oryza sativa (Asian rice)—or, much less commonly, Oryza glaberrima (African rice). Asian rice was domesticated in China some 13,500 to 8,200 years ago; African rice was domesticated in Africa about 3,000 years ago. Rice has become commonplace in many cultures worldwide; in 2021, 787 million tons were produced, placing it fourth after sugarcane, maize, and wheat. Only some 8% of rice is traded internationally. China, India, and Indonesia are the largest consumers of rice. A substantial amount of the rice produced in developing nations is lost after harvest through factors such as poor transport and storage. Rice yields can be reduced by pests including insects, rodents, and birds, as well as by weeds, and by diseases such as rice blast. Traditional rice polycultures such as rice-duck farming, and modern integrated pest management seek to control damage from pests in a sustainable way. \n",
            "Many varieties of rice have been bred to improve crop quality and productivity. Biotechnology has created Green Revolution rice able to produce high yields when supplied with nitrogen fertiliser and managed intensively. Other products are rice able to express human proteins for medicinal use; flood-tolerant or deepwater rice; and drought-tolerant and salt-tolerant varieties. Rice is used as a model organism in biology.\n",
            "Dry rice grain is milled to remove the outer layers; depending on how much is removed, products range from brown rice to rice with germ and white rice. Some is parboiled to make it easy to cook. Rice contains no gluten; it provides protein but not all the essential amino acids needed for good health. Rice of different types is eaten around the world. Long-grain rice tends to stay intact on cooking; medium-grain rice is stickier, and is used for sweet dishes, and in Italy for risotto; and sticky short-grain rice is used in Japanese sushi as it keeps its shape when cooked. White rice when cooked contains 29% carbohydrate and 2% protein, with some manganese. Golden rice is a variety produced by genetic engineering to contain vitamin A.\n",
            "Production of rice is estimated to have caused over 1% of global greenhouse gas emissions in 2022. Predictions of how rice yields will be affected by climate change vary across geographies and socioeconomic contexts. In human culture, rice plays a role in certain religions and traditions, such as in weddings.\n",
            "\n",
            "The rice plant can grow to over 1 m (3 ft) tall; if in deep water, it can reach a length of  5 m (16 ft). A single plant may have several leafy stems or tillers. The upright stem is jointed with nodes along its length; a long slender leaf arises from each node. The self-fertile flowers are produced in a panicle, a branched inflorescence which arises from the last internode on the stem. There can be up to 350 spikelets in a panicle, each containing male and female flower parts (anthers and ovule). A fertilised ovule develops into the edible grain or caryopsis.\n",
            "Rice is a cereal belonging to the family Poaceae. As a tropical crop, it can be grown during the two distinct seasons (dry and wet) of the year provided that sufficient water is made available. It is normally an annual, but in the tropics it can survive as a perennial, producing a ratoon crop.\n",
            "\n",
            "\t\t\n",
            "\t\t\t\n",
            "\t\t\t\n",
            "\t\t\n",
            "\t\t\n",
            "\t\t\t\n",
            "\t\t\t\n",
            "\t\t\n",
            "\n",
            "Like all crops, rice depends for its growth on both biotic and abiotic environmental factors. The principal biotic factors are crop variety, pests, and plant diseases. Abiotic factors include the soil type, whether lowland or upland, amount of rain or irrigation water, temperature, day length, and intensity of sunlight.\n",
            "Rice grains can be planted directly into the field where they will grow, or seedlings can be grown in a seedbed and transplanted into the field. Direct seeding needs some 60 to 80 kg of grain per hectare, while transplanting needs less, around 40 kg per hectare, but requires far more labour.  Most rice in Asia is transplanted by hand. Mechanical transplanting takes less time but requires a carefully-prepared field and seedlings raised on mats or in trays to fit the machine. Rice does not thrive if continuously submerged. Rice can be grown in different environments, depending upon water availability. The usual arrangement is for lowland fields to be surrounded by bunds and flooded to a depth of a few centimetres until around a week before harvest time; this requires a large amount of water. The \"alternate wetting and drying\" technique uses less water. One form of this is to flood the field to a depth of 5 cm (2 in), then to let the water level drop to 15 cm (6 in) below surface level, as measured by looking into a perforated field water tube sunk into the soil, and then repeating the cycle. Deepwater rice varieties tolerate flooding to a depth of over 50 centimetres for at least a month. Upland rice is grown without flooding, in hilly or mountainous regions; it is rainfed like wheat or maize.\n",
            "\n",
            "\t\t\n",
            "\t\t\t\n",
            "\t\t\t\n",
            "\t\t\n",
            "\t\t\n",
            "\t\t\t\n",
            "\t\t\t\n",
            "\t\t\n",
            "\t\t\n",
            "\t\t\t\n",
            "\t\t\t\n",
            "\t\t\n",
            "\t\t\n",
            "\t\t\t\n",
            "\t\t\t\n",
            "\t\t\n",
            "\n",
            "Across Asia, unmilled rice or \"paddy\" (Indonesian and Malay padi), was traditionally the product of smallholder agriculture, with manual harvesting. Larger farms make use of machines such as combine harvesters to reduce the input of labour. The grain is ready to harvest when the moisture content is 20–25%. Harvesting involves reaping, stacking the cut stalks, threshing to separate the grain, and cleaning by winnowing or screening. The rice grain is dried as soon as possible to bring the moisture content down to a level that is safe from mould fungi. Traditional drying relies on the heat of the sun, with the grain spread out on mats or on pavements.\n",
            "\n",
            "\t\t\n",
            "\t\t\t\n",
            "\t\t\t\n",
            "\t\t\n",
            "\t\t\n",
            "\t\t\t\n",
            "\t\t\t\n",
            "\t\t\n",
            "\t\t\n",
            "\t\t\t\n",
            "\t\t\t\n",
            "\t\t\n",
            "\t\t\n",
            "\t\t\t\n",
            "\t\t\t\n",
            "\t\t\n",
            "\n",
            "The edible rice species are members of the BOP clade within the grass family, the Poaceae. The rice subfamily, Oryzoideae, is sister to the bamboos, Bambusoideae, and the cereal subfamily Pooideae. The rice genus Oryza is one of eleven in the Oryzeae; it is sister to the Phyllorachideae. The edible rice species O. sativa and O. glaberrima are among some 300 species or subspecies in the genus.\n",
            "\n",
            "Oryza sativa rice was first domesticated in China 9,000 years ago, by people of Neolithic cultures in the Upper and Lower Yangtze, associated with Hmong-Mien-speakers and pre-Austronesians, respectively. The functional allele for nonshattering, the critical indicator of domestication in grains, as well as five other single-nucleotide polymorphisms, is identical in both indica and japonica. This implies a single domestication event for O. sativa. Both indica and japonica forms of Asian rice sprang from a single domestication event in China from the wild rice Oryza rufipogon. Despite this evidence, it appears that indica rice arose when japonica arrived in India about 4,500 years ago and hybridised with another rice, whether an undomesticated proto-indica or wild O. nivara. \n",
            "Rice was introduced early into Sino-Tibetan cultures in northern China by around 6000 to 5600 years ago, and to the Korean peninsula and Japan by around 5500 to 3200 years ago. It was also carried into Taiwan by the Dapenkeng culture by 5500 to 4000 years ago, before spreading southwards via the Austronesian migrations to Island Southeast Asia, Madagascar, and Guam, but did not survive the voyage to the rest of the Pacific. It reached Austroasiatic and Kra-Dai-speakers in Mainland Southeast Asia and southern China by 5000 years ago. \n",
            "Rice spread around the rest of the world through cultivation, migration and trade, eventually to the Americas as part of the Columbian exchange after 1492. The now less common Oryza glaberrima (African rice) was independently domesticated in Africa around 3,000 years ago, and introduced to the Americas by the Spanish.\n",
            "\n",
            "In 2021, world production of rice was 787 million tonnes, led by China and India with a combined 52% of the total. This placed rice fourth in the list of crops by production, after sugarcane,  maize, and wheat. Other major producers were Bangladesh, Indonesia and Vietnam. 90% of world production is from Asia.\n",
            "\n",
            "\t\t\n",
            "\t\t\t\n",
            "\t\t\t\n",
            "\t\t\n",
            "\t\t\n",
            "\t\t\t\n",
            "\t\t\t\n",
            "\t\t\n",
            "\n",
            "The average world yield for rice was 4.7 metric tons per hectare (2.1 short tons per acre), in 2022. Yuan Longping of China's National Hybrid Rice Research and Development Center set a world record for rice yield in 1999 at 17.1 metric tons per hectare (7.6 short tons per acre) on a demonstration plot. This employed specially developed hybrid rice and the System of Rice Intensification (SRI), an innovation in rice farming.\n",
            "\n",
            "Rice is a major food staple in Asia, Latin America, and some parts of Africa, feeding over half the world's population. However, a substantial part of the crop can be lost post-harvest through inefficient transportation, storage, and milling. A quarter of the crop in Nigeria is lost after harvest. Storage losses include damage by mould fungi if the rice is not dried sufficiently. In China, losses in modern metal silos were just 0.2%, compared to 7–13% when rice was stored by rural households.\n",
            "\n",
            "The dry grain is milled to remove the outer layers, namely the husk and bran. These can be removed in a single step, in two steps, or as in commercial milling in a multi-step process of cleaning, dehusking, separation, polishing, grading, and weighing. Brown rice only has the inedible husk removed. Further milling removes bran and the germ to create successively whiter products. Parboiled rice is subjected to a steaming process before it is milled. This makes the grain harder, and moves some of the grain's vitamins and minerals into the white part of the rice so these are retained after milling. Rice does not contain gluten, so is suitable for people on a gluten-free diet. Rice is a good source of protein and a staple food in many parts of the world, but it is not a complete protein as it does not contain all of the essential amino acids in sufficient amounts for good health.\n",
            "\n",
            "\t\t\n",
            "\t\t\t\n",
            "\t\t\t\n",
            "\t\t\n",
            "\t\t\n",
            "\t\t\t\n",
            "\t\t\t\n",
            "\t\t\n",
            "\n",
            "World trade figures are much smaller than those for production, as less than 8% of rice produced is traded internationally. \n",
            "China, an exporter of rice in the early 2000s, had become the world's largest importer of rice by 2013. Developing countries are the main players in the world rice trade; by 2012, India was the largest exporter of rice, with Thailand and Vietnam the other largest exporters.\n",
            "\n",
            "As of 2016, the countries that consumed the most rice were China (29% of total), India, and Indonesia. By 2020, Bangladesh had taken third place from Indonesia. On an annual average from 2020-23, China consumed 154 million tonnes of rice, India consumed 109 million tonnes, and Bangladesh and Indonesia consumed about 36 million tonnes each. Across the world, rice consumption per capita fell in the 21st century as people in Asia and elsewhere ate less grain and more meat. An exception is Sub-Saharan Africa, where both per capita consumption of rice and population are increasing.\n",
            "\n",
            "Rice is a commonly-eaten food around the world. The varieties of rice are typically classified as short-, medium-, and long-grained. Oryza sativa indica varieties are usually long-grained; Oryza sativa japonica varieties are usually short- or medium-grained. Short-grain rice, with the exception of Spanish Bomba, is usually sticky when cooked, and is suitable for puddings. Thai Jasmine rice is aromatic, and unusually for a long-grain rice has some stickiness, with a soft texture. Indian Basmati rice is very long-grained and aromatic. Italian Arborio rice, used for risotto, is of medium length, oval, and quite sticky. Japanese sushi rice is a sticky short-grain variety.\n",
            "\n",
            "Cooked white rice is 69% water, 29% carbohydrates, 2% protein, and contains negligible fat (table). In a reference serving of 100 grams (3.5 oz), cooked white rice provides 130 calories of food energy, and contains moderate levels of manganese (18% DV), with no other micronutrients in significant content (all less than 10% of the Daily Value).\n",
            "In 2018, the World Health Organization strongly recommended fortifying rice with iron, and conditionally recommended fortifying it with vitamin A and with folic acid.\n",
            "\n",
            "Golden rice is a variety produced through genetic engineering to synthesize beta-carotene, a precursor of vitamin A, in the endosperm of the rice grain. It is intended to be grown and eaten in parts of the world where Vitamin A deficiency is prevalent. Golden rice has been opposed by activists, such as in the Philippines. In 2016 more than 100 Nobel laureates encouraged the use of genetically modified organisms, such as golden rice, for the benefits these could bring.\n",
            "\n",
            "In 2022, greenhouse gas emissions from rice cultivation were estimated at 5.7 billion tonnes CO2eq, representing 1.2% of total emissions. Within the agriculture sector, rice produces almost half the greenhouse gas emissions from croplands, some 30% of agricultural methane emissions, and 11% of agricultural nitrous oxide emissions. Methane is released from rice fields subject to long-term flooding, as this inhibits the soil from absorbing atmospheric oxygen, resulting in anaerobic fermentation of organic matter in the soil. Emissions can be limited by planting new varieties, not flooding continuously, and removing straw.\n",
            "It is possible to cut methane emissions in rice cultivation by improved water management, combining dry seeding and one drawdown, or executing a sequence of wetting and drying. This results in emission reductions of up to 90% compared to full flooding and even increased yields.\n",
            "\n",
            "Predictions of climate change's effects on rice cultivation vary. Global rice yield has been projected to decrease by around 3.2% with each 1°C increase in global average temperature while another study predicts global rice cultivation will increase initially, plateauing at about 3°C warming (2091–2100 relative to 1850–1900).\n",
            "The impacts of climate change on rice cultivation will vary across geographic location and socioeconomic contexts. For example, rising temperatures and decreasing solar radiation during the later years of the 20th century decreased rice yield by between 10% and 20% across 200 farms in seven Asian countries. This may have been caused by increased night-time respiration. IRRI has predicted that Asian rice yields will fall by some 20% per 1°C rise in global mean temperature. Further, rice is unable to yield grain if the flowers experience a temperature of 35 °C or more for over one hour, so the crop would be lost under these conditions. \n",
            "In the Po Valley in Italy, the arborio and carnaroli risotto rice varieties have suffered poor harvests through drought in the 21st century. The Ente Nazionale Risi  is developing drought-resistant varieties; its nuovo prometeo variety has deep roots that enable it to tolerate drought, but is not suitable for risotto.\n",
            "\n",
            "Rice yield can be reduced by weed growth, and a wide variety of pests including insects, nematodes, rodents such as rats, snails, and birds. Major rice insect pests include armyworms, rice bugs, black bugs, cutworms, field crickets, grasshoppers, leafhoppers, mealybugs, and planthoppers. High rates of nitrogen fertiliser application may worsen aphid outbreaks. \n",
            "Weather conditions can contribute to pest outbreaks: rice gall midge outbreaks are worsened by high rainfall in the wet season, while thrips outbreaks are associated with drought.\n",
            "\n",
            " \n",
            "Rice blast, caused by the fungus Magnaporthe grisea, is the most serious disease of growing rice. \n",
            "It and bacterial leaf streak (caused by Xanthomonas oryzae pv. oryzae) are perennially the two worst rice diseases worldwide; they are both among the ten most important diseases of all crop plants. Other major rice diseases include sheath blight (caused by Rhizoctonia solani), false smut (Ustilaginoidea virens), and bacterial panicle blight (Burkholderia glumae). Viral diseases include rice bunchy stunt, rice dwarf, rice tungro, and rice yellow mottle.\n",
            "\n",
            "Crop protection scientists are developing sustainable techniques for managing rice pests. Sustainable pest management is based on four principles: biodiversity, host plant resistance, landscape ecology, and hierarchies in a landscape—from biological to social. Farmers' pesticide applications are often unnecessary. Pesticides may  actually induce resurgence of populations of rice pests such as the brown planthopper, both by destroying beneficial insects and by enhancing the pest's reproduction. The International Rice Research Institute (IRRI) demonstrated in 1993 that an 87.5% reduction in pesticide use can lead to an overall drop in pest numbers. \n",
            "\n",
            "Farmers in China, Indonesia and the Philippines have traditionally managed weeds and pests by the polycultural practice of raising ducks and sometimes fish in their rice paddies. These produce valuable additional crops, eat small pest animals, manure the rice, and in the case of ducks also control weeds.\n",
            "Rice plants produce their own chemical defences to protect themselves from pest attacks. Some synthetic chemicals, such as the herbicide 2,4-D, cause the plant to increase the production of certain defensive chemicals and thereby increase the plant's resistance to some types of pests. Conversely, other chemicals, such as the insecticide imidacloprid, appear to induce changes in the gene expression of the rice that make the plant more susceptible to certain pests.\n",
            "Plant breeders have created rice cultivars incorporating resistance to various insect pests. Conventional plant breeding of resistant varieties has been limited by challenges such as rearing insect pests for testing, and the great diversity and continuous evolution of pests. Resistance genes are being sought from wild species of rice, and genetic engineering techniques are being applied.\n",
            "\n",
            " \n",
            "The International Rice Research Institute maintains the International Rice Genebank, which holds over 100,000 rice varieties. Much of southeast Asia grows sticky or glutinous rice varieties. High-yield cultivars of rice suitable for cultivation in Africa, called the New Rice for Africa (NERICA), have been developed to improve food security and alleviate poverty in Sub-Saharan Africa.\n",
            "The complete genome of rice was sequenced in 2005, making it the first crop plant to reach this status. \n",
            "Since then, the genomes of hundreds of types of rice, both wild and cultivated, and including both Asian and African rice species, have been sequenced.\n",
            "\n",
            "The high-yielding varieties are a group of crops created during the Green Revolution to increase global food production radically. The first Green Revolution rice variety, IR8, was produced in 1966 at the International Rice Research Institute through a cross between an Indonesian variety named \"Peta\" and a Chinese variety named \"Dee Geo Woo Gen\". Green Revolution varieties were bred to have short strong stems so that the rice would not lodge or fall over. This enabled them to stay upright and productive even with heavy applications of fertiliser.\n",
            "\n",
            "Ventria Bioscience has genetically modified rice to express lactoferrin and lysozyme which are proteins usually found in breast milk, and human serum albumin. These proteins have antiviral, antibacterial, and antifungal effects. Rice containing these added proteins can be used as a component in oral rehydration solutions to treat diarrheal diseases, thereby shortening their duration and reducing recurrence. Such supplements may also help reverse anemia.\n",
            "\n",
            "In areas subject to flooding, farmers have long planted flood tolerant varieties known as deepwater rice. In South and South East Asia, flooding affects some 20 million hectares (49 million acres) each year. \n",
            "Flooding has historically led to massive losses in yields, such as in the Philippines, where in 2006, rice crops worth $65 million were lost to flooding. \n",
            "Standard rice varieties cannot withstand stagnant flooding for more than about a week, since it disallows the plant access to necessary requirements such as sunlight and gas exchange. The Swarna Sub1 cultivar can tolerate week-long submergence, consuming carbohydrates efficiently and continuing to grow. So-called \"scuba rice\" with the Sub1A transgene is robustly tolerant of submergence for as long as two weeks, offering much improved flood survival for farmers' crops. IRRI has created Sub1A varieties and distributed them to Bangladesh, India, Indonesia, Nepal, and the Philippines.\n",
            "\n",
            "Drought represents a significant environmental stress for rice production, with 19–23 million hectares (47–57 million acres) of rainfed rice production in South and South East Asia often at risk. Under drought conditions, without sufficient water to afford them the ability to obtain the required levels of nutrients from the soil, conventional commercial rice varieties can be severely affected—as happened for example in India early in the 21st century.\n",
            "The International Rice Research Institute conducts research into developing drought-tolerant rice varieties, including the varieties Sahbhagi Dhan, Sahod Ulan, and Sookha dhan, currently being employed by farmers in India, the Philippines, and Nepal respectively. In addition, in 2013 the Japanese National Institute for Agrobiological Sciences led a team which successfully inserted the DEEPER ROOTING 1 (DRO1) gene, from the Philippine upland rice variety Kinandang Patong, into the popular commercial rice variety IR64, giving rise to a far deeper root system in the resulting plants. This facilitates an improved ability for the rice plant to derive its required nutrients in times of drought via accessing deeper layers of soil, a feature demonstrated by trials which saw the IR64 + DRO1 rice yields drop by 10% under moderate drought conditions, compared to 60% for the unmodified IR64 variety.\n",
            "\n",
            "Soil salinity poses a major threat to rice crop productivity, particularly along low-lying coastal areas during the dry season. For example, roughly 1 million hectares (2.5 million acres) of the coastal areas of Bangladesh are affected by saline soils. These high concentrations of salt can severely affect rice plants' physiology, especially during early stages of growth, and as such farmers are often forced to abandon these areas.\n",
            "Progress has been made in developing rice varieties capable of tolerating such conditions; the hybrid created from the cross between the commercial rice variety IR56 and the wild rice species Oryza coarctata is one example. O. coarctata can grow in soils with double the limit of salinity of normal varieties, but does not produce edible rice. Developed by the International Rice Research Institute, the hybrid variety utilises specialised leaf glands that remove salt into the atmosphere. It was produced from one successful embryo out of 34,000 crosses between the two species; this was then backcrossed to IR56 with the aim of preserving the genes responsible for salt tolerance that were inherited from O. coarctata.\n",
            "\n",
            "Rice is sensitive to temperatures below 12C. Sowing takes place once the daily average temperature is reliably above this limit. Average temperatures below that reduce growth; if sustained for over four days, germination and seedling growth are harmed and seedlings may die. In larger plants subjected to cold, rice blast is encouraged, seriously reducing yield. As of 2022, researchers continue to study the mechanisms of chilling tolerance in rice and its genetic basis. \n",
            "\n",
            "Producing rice in paddies is harmful for the environment due to the release of methane by methanogenic bacteria. These bacteria live in the anaerobic waterlogged soil, consuming nutrients released by rice roots. Putting the barley gene SUSIBA2 into rice creates a shift in biomass production from root to shoot, decreasing the methanogen population, and resulting in a reduction of methane emissions of up to 97%. Further, the modification increases the amount of rice grains.\n",
            "\n",
            "Rice is used as a model organism for investigating the mechanisms of meiosis and DNA repair in higher plants. For example, study using rice has shown that the gene OsRAD51C is necessary for the accurate repair of DNA double-strand breaks during meiosis.\n",
            "\n",
            "Rice plays an important role in certain religions and popular beliefs. In Hindu wedding ceremonies, rice, denoting fertility, prosperity, and purity, is thrown into the sacred fire, a custom modified in Western weddings, where people throw rice. In Malay weddings, rice features in multiple special wedding foods such as sweet glutinous rice. In Japan and the Philippines, rice wine is used for weddings and other celebrations. Dewi Sri is a goddess of the Indo-Malaysian archipelago, who in myth is transformed into rice or other crops. The start of the rice planting season is marked in Asian countries including Nepal and Cambodia with a Royal Ploughing Ceremony.\n",
            "\n",
            "Artificial rice\n",
            "Direct seeded rice\n",
            "List of rice dishes\n",
            "Rice Belt\n",
            "\n",
            "Liu, Wende; Liu, Jinling; Triplett, Lindsay; Leach, Jan E.; Wang, Guo-Liang (August 4, 2014). \"Novel insights into rice innate immunity against bacterial and fungal pathogens\". Annual Review of Phytopathology. 52 (1). Annual Reviews: 213–241. doi:10.1146/annurev-phyto-102313-045926. PMID 24906128. S2CID 9244874.\n",
            "Deb, D. (October 2019). \"Restoring Rice Biodiversity\". Scientific American. 321 (4): 54–61. doi:10.1038/scientificamerican1019-54. India originally possessed some 110,000 landraces of rice with diverse and valuable properties. These include enrichment in vital nutrients and the ability to withstand flood, drought, salinity or pest infestations. The Green Revolution covered fields with a few high-yielding varieties, so that roughly 90 percent of the landraces vanished from farmers' collections. High-yielding varieties require expensive inputs. They perform abysmally on marginal farms or in adverse environmental conditions, forcing poor farmers into debt.\n",
            "Singh, B. N. (2018). Global Rice Cultivation & Cultivars. New Delhi: Studium Press. ISBN 978-1-62699-107-1. Archived from the original on March 14, 2018. Retrieved March 14, 2018.\n",
            "Hello!\n",
            "bye\n",
            "Nice chat! Have a good day!\n"
          ]
        }
      ]
    },
    {
      "cell_type": "code",
      "source": [],
      "metadata": {
        "id": "v9zDp1GREqVi"
      },
      "execution_count": null,
      "outputs": []
    }
  ]
}